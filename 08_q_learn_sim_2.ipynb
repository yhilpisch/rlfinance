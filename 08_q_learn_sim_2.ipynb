{
 "cells": [
  {
   "cell_type": "markdown",
   "metadata": {},
   "source": [
    "<img src='https://certificate.tpq.io/quantsdev_banner_color.png' width=\"250px\" align=\"right\">"
   ]
  },
  {
   "cell_type": "markdown",
   "metadata": {},
   "source": [
    "# Reinforcement Learning"
   ]
  },
  {
   "cell_type": "markdown",
   "metadata": {},
   "source": [
    "&copy; Dr Yves J Hilpisch | The Python Quants GmbH\n",
    "\n",
    "[quants@dev Discord Server](https://discord.gg/uJPtp9Awaj) | [@quants_dev](https://twitter.com/quants_dev) | <a href=\"mailto:qd@tpq.io\">qd@tpq.io</a>\n",
    "\n",
    "<img src=\"https://hilpisch.com/aiif_cover_shadow.png\" width=\"300px\" align=\"left\">"
   ]
  },
  {
   "cell_type": "markdown",
   "metadata": {},
   "source": [
    "## Simulated Financial Processes"
   ]
  },
  {
   "cell_type": "code",
   "execution_count": null,
   "metadata": {},
   "outputs": [],
   "source": [
    "import os\n",
    "import math\n",
    "import random\n",
    "import numpy as np\n",
    "import pandas as pd\n",
    "from pylab import plt\n",
    "from collections import deque\n",
    "plt.style.use('seaborn')\n",
    "os.environ['PYTHONHASHSEED'] = '0'\n",
    "np.set_printoptions(precision=4, suppress=True)"
   ]
  },
  {
   "cell_type": "code",
   "execution_count": null,
   "metadata": {},
   "outputs": [],
   "source": [
    "import warnings\n",
    "warnings.simplefilter('ignore')"
   ]
  },
  {
   "cell_type": "code",
   "execution_count": null,
   "metadata": {},
   "outputs": [],
   "source": [
    "os.environ['TF_CPP_MIN_LOG_LEVEL'] = '4'"
   ]
  },
  {
   "cell_type": "code",
   "execution_count": null,
   "metadata": {},
   "outputs": [],
   "source": [
    "from tensorflow.python.framework.ops import disable_eager_execution\n",
    "disable_eager_execution()"
   ]
  },
  {
   "cell_type": "code",
   "execution_count": null,
   "metadata": {},
   "outputs": [],
   "source": [
    "import tensorflow as tf\n",
    "from tensorflow import keras\n",
    "from keras.layers import Dense, Dropout\n",
    "from keras.models import Sequential"
   ]
  },
  {
   "cell_type": "code",
   "execution_count": null,
   "metadata": {},
   "outputs": [],
   "source": [
    "def set_seeds(seed=100):\n",
    "    random.seed(seed)\n",
    "    np.random.seed(seed)\n",
    "    tf.random.set_seed(seed)"
   ]
  },
  {
   "cell_type": "markdown",
   "metadata": {},
   "source": [
    "## Simulation Environment (2)"
   ]
  },
  {
   "cell_type": "code",
   "execution_count": null,
   "metadata": {},
   "outputs": [],
   "source": [
    "class observation_space:\n",
    "    def __init__(self, n):\n",
    "        self.shape = (n,)"
   ]
  },
  {
   "cell_type": "code",
   "execution_count": null,
   "metadata": {},
   "outputs": [],
   "source": [
    "class action_space:\n",
    "    def __init__(self, n):\n",
    "        self.n = n\n",
    "    def sample(self):\n",
    "        return random.randint(0, self.n - 1)"
   ]
  },
  {
   "cell_type": "code",
   "execution_count": null,
   "metadata": {},
   "outputs": [],
   "source": [
    "class Simul:\n",
    "    def __init__(self, symbol, features, window, lags, steps,\n",
    "                 x0=100, kappa=1, theta=100, sigma=0.2,\n",
    "                 leverage=1, min_accuracy=0.525, min_performance=0.85,\n",
    "                 start=0, end=None, mu=None, std=None,\n",
    "                 normalize=True, renew=False):\n",
    "        self.symbol = symbol\n",
    "        self.features = features\n",
    "        self.n_features = len(features)\n",
    "        self.window = window\n",
    "        self.lags = lags\n",
    "        self.steps = steps\n",
    "        self.x0 = x0\n",
    "        self.kappa = kappa\n",
    "        self.theta = theta\n",
    "        self.sigma = sigma\n",
    "        self.leverage = leverage\n",
    "        # minimum required prediction accuracy\n",
    "        self.min_accuracy = min_accuracy\n",
    "        # minimum required financial performance\n",
    "        self.min_performance = min_performance\n",
    "        self.start = start\n",
    "        self.end = end\n",
    "        self.mu = mu\n",
    "        self.std = std\n",
    "        self.normalize = normalize\n",
    "        self.renew = renew\n",
    "        self.observation_space = observation_space(self.lags)\n",
    "        self.action_space = action_space(2)\n",
    "        self._simulate_data()\n",
    "        self._prepare_data()\n",
    "    def _simulate_data(self):\n",
    "        s = [self.x0]\n",
    "        dt = 1 / self.steps\n",
    "        for t in range(1, self.steps + 1):\n",
    "            s_ = (s[t - 1] + self.kappa * (self.theta - s[t - 1]) * dt + s[t - 1] *\n",
    "                  self.sigma * math.sqrt(dt) * random.gauss(0, 1))\n",
    "            s.append(s_)\n",
    "        self.data = pd.DataFrame(s, columns=[self.symbol],\n",
    "                                index=pd.date_range(start='2022-1-1',\n",
    "                                                    end='2023-1-1',\n",
    "                                                    periods=self.steps+1))\n",
    "    def _prepare_data(self):\n",
    "        self.data = self.data.iloc[self.start:]\n",
    "        self.data['r'] = np.log(self.data / self.data.shift(1))\n",
    "        self.data.dropna(inplace=True)\n",
    "        # additional features\n",
    "        if self.window > 0:\n",
    "            self.data['sma'] = self.data[self.symbol].rolling(self.window).mean()\n",
    "            self.data['dif'] = self.data[self.symbol] - self.data['sma']\n",
    "            self.data['min'] = self.data[self.symbol].rolling(self.window).min()\n",
    "            self.data['max'] = self.data[self.symbol].rolling(self.window).max()\n",
    "            self.data['mom'] = self.data['r'].rolling(self.window).mean()\n",
    "            # add your own features\n",
    "            self.data.dropna(inplace=True)\n",
    "        if self.normalize:\n",
    "            if self.mu is None or self.std is None:\n",
    "                self.mu = self.data.mean()\n",
    "                self.std = self.data.std()\n",
    "            self.data_ = (self.data - self.mu) / self.std\n",
    "        else:\n",
    "            self.data_ = self.data.copy()\n",
    "        self.data['d'] = np.where(self.data['r'] > 0, 1, 0)\n",
    "        self.data['d'] = self.data['d'].astype(int)\n",
    "        if self.end is not None:\n",
    "            self.data = self.data.iloc[:self.end - self.start]\n",
    "            self.data_ = self.data_.iloc[:self.end - self.start]\n",
    "    def _get_state(self):\n",
    "        return self.data_[self.features].iloc[self.bar -\n",
    "                                self.lags:self.bar]\n",
    "    def seed(self, seed):\n",
    "        random.seed(seed)\n",
    "        np.random.seed(seed)\n",
    "        tf.random.set_random_seed(seed)\n",
    "    def reset(self):\n",
    "        if self.renew:\n",
    "            self._simulate_data()\n",
    "            self._prepare_data()\n",
    "        self.treward = 0\n",
    "        self.accuracy = 0\n",
    "        self.performance = 1\n",
    "        self.bar = self.lags\n",
    "        state = self._get_state()\n",
    "        return state.values\n",
    "    def step(self, action):\n",
    "        correct = action == self.data['d'].iloc[self.bar]  # prediction correct?\n",
    "        ret = self.data['r'].iloc[self.bar] * self.leverage  # return incl. leverage\n",
    "        reward_ = 1 if correct else 0  # reward of 1 if prediction correct, 0 otherwise\n",
    "        pl = abs(ret) if correct else -abs(ret)  # strategy performance\n",
    "        reward = reward_ + 100 * pl  # reward used for learning\n",
    "        # reward = reward_ # reward used for learning (correct prediction)\n",
    "        # reward = pl # reward used for learning (only strategy return)\n",
    "        # reward = reward_ + 100 * pl # reward used for learning (correct prediction + return)\n",
    "        self.treward += reward_  # total reward\n",
    "        self.bar += 1\n",
    "        self.accuracy = self.treward / (self.bar - self.lags)  # prediction accuracy\n",
    "        self.performance *= math.exp(pl)  # ansolute/gross performance\n",
    "        if self.bar >= len(self.data):\n",
    "            done = True\n",
    "        elif reward_ == 1:\n",
    "            done = False\n",
    "        elif (self.accuracy < self.min_accuracy and\n",
    "              self.bar > self.lags + 10):\n",
    "            done = True\n",
    "        elif (self.performance < self.min_performance and\n",
    "              self.bar > self.lags + 10):\n",
    "            done = True\n",
    "        else:\n",
    "            done = False\n",
    "        state = self._get_state()\n",
    "        info = {}\n",
    "        return state.values, reward, done, info"
   ]
  },
  {
   "cell_type": "code",
   "execution_count": null,
   "metadata": {},
   "outputs": [],
   "source": [
    "sym = 'EUR='"
   ]
  },
  {
   "cell_type": "code",
   "execution_count": null,
   "metadata": {},
   "outputs": [],
   "source": [
    "# set_seeds(100)\n",
    "env = Simul(sym, [sym, 'r'], window=20, lags=4, steps=365,\n",
    "            x0=100, kappa=2, theta=300, sigma=0.2,\n",
    "            normalize=False, renew=True)"
   ]
  },
  {
   "cell_type": "code",
   "execution_count": null,
   "metadata": {},
   "outputs": [],
   "source": [
    "env.reset()"
   ]
  },
  {
   "cell_type": "code",
   "execution_count": null,
   "metadata": {},
   "outputs": [],
   "source": [
    "env.data[sym].plot(figsize=(10, 6));"
   ]
  },
  {
   "cell_type": "code",
   "execution_count": null,
   "metadata": {},
   "outputs": [],
   "source": [
    "a = env.action_space.sample()\n",
    "a"
   ]
  },
  {
   "cell_type": "code",
   "execution_count": null,
   "metadata": {},
   "outputs": [],
   "source": [
    "env.reset()"
   ]
  },
  {
   "cell_type": "code",
   "execution_count": null,
   "metadata": {},
   "outputs": [],
   "source": [
    "env.step(a)"
   ]
  },
  {
   "cell_type": "markdown",
   "metadata": {},
   "source": [
    "## FQL Agent"
   ]
  },
  {
   "cell_type": "code",
   "execution_count": null,
   "metadata": {},
   "outputs": [],
   "source": [
    "class FQLAgent:\n",
    "    def __init__(self, hidden_units, learning_rate, env,\n",
    "                 gamma=0.95, ed=0.99, dropout=False):\n",
    "        self.learn_env = env\n",
    "        self.epsilon = 1.0\n",
    "        self.epsilon_min = 0.01\n",
    "        self.epsilon_decay = ed\n",
    "        self.learning_rate = learning_rate\n",
    "        self.gamma = gamma\n",
    "        self.batch_size = 32\n",
    "        self.max_treward = 0\n",
    "        self.averages = list()\n",
    "        self.performances = list()\n",
    "        self.aperformances = list()\n",
    "        self.memory = deque(maxlen=2000)\n",
    "        self.trewards = []\n",
    "        self.dropout = dropout\n",
    "        self.model = self._build_model(hidden_units, learning_rate)\n",
    "        \n",
    "    def _build_model(self, hu, lr):\n",
    "        model = Sequential()\n",
    "        model.add(Dense(hu, input_shape=(\n",
    "            self.learn_env.lags, self.learn_env.n_features),\n",
    "                        activation='relu'))\n",
    "        if self.dropout:\n",
    "            model.add(Dropout(0.3, seed=100))\n",
    "        model.add(Dense(hu, activation='relu'))\n",
    "        if self.dropout:\n",
    "            model.add(Dropout(0.3, seed=100))\n",
    "        model.add(Dense(2, activation='linear'))\n",
    "        model.compile(\n",
    "            loss='mse',\n",
    "            optimizer=keras.optimizers.Adam(learning_rate=lr)\n",
    "        )\n",
    "        return model\n",
    "        \n",
    "    def act(self, state):\n",
    "        if random.random() <= self.epsilon:\n",
    "            return self.learn_env.action_space.sample()\n",
    "        action = self.model.predict(state)[0, 0]\n",
    "        return np.argmax(action)\n",
    "    \n",
    "    def replay(self):\n",
    "        batch = random.sample(self.memory, self.batch_size)\n",
    "        for state, action, reward, next_state, done in batch:\n",
    "            if not done:\n",
    "                reward += self.gamma * np.amax(\n",
    "                    self.model.predict(next_state)[0, 0])\n",
    "            target = self.model.predict(state)\n",
    "            target[0, 0, action] = reward\n",
    "            self.model.fit(state, target, epochs=1,\n",
    "                           verbose=False)\n",
    "        if self.epsilon > self.epsilon_min:\n",
    "            self.epsilon *= self.epsilon_decay\n",
    "    \n",
    "    def learn(self, episodes):\n",
    "        for e in range(1, episodes + 1):\n",
    "            state = self.learn_env.reset()\n",
    "            state = np.reshape(state, [1, self.learn_env.lags,\n",
    "                                       self.learn_env.n_features])\n",
    "            for _ in range(10000):\n",
    "                action = self.act(state)\n",
    "                next_state, reward, done, info = self.learn_env.step(action)\n",
    "                next_state = np.reshape(next_state,\n",
    "                                [1, self.learn_env.lags,\n",
    "                                 self.learn_env.n_features])\n",
    "                self.memory.append([state, action, reward,\n",
    "                                     next_state, done])\n",
    "                state = next_state\n",
    "                if done:\n",
    "                    treward = _ + 1\n",
    "                    self.trewards.append(treward)\n",
    "                    av = sum(self.trewards[-25:]) / 25\n",
    "                    perf = self.learn_env.performance\n",
    "                    self.averages.append(av)\n",
    "                    self.performances.append(perf)\n",
    "                    self.aperformances.append(av)\n",
    "                    self.max_treward = max(self.max_treward, treward)\n",
    "                    templ = 'episode: {:2d}/{} | treward: {:4d} | '\n",
    "                    templ += 'perf: {:5.3f} | av: {:5.1f} | max: {:4d}'\n",
    "                    print(templ.format(e, episodes, treward, perf,\n",
    "                                  av, self.max_treward), end='\\r')\n",
    "                    break\n",
    "            if len(self.memory) > self.batch_size:\n",
    "                self.replay()\n",
    "        print()\n",
    "    def test(self, episodes):\n",
    "        env = self.learn_env\n",
    "        trewards = []\n",
    "        performances = []\n",
    "        accuracies = []\n",
    "        for e in range(1, episodes + 1):\n",
    "            env_ = Simul(env.symbol, env.features, env.window, env.lags,\n",
    "                         env.steps, x0=env.x0, kappa=env.kappa, theta=env.theta,\n",
    "                         leverage=env.leverage, min_accuracy=env.min_accuracy,\n",
    "                         min_performance=env.min_performance,\n",
    "                         sigma=env.sigma, mu=env.mu, std=env.std,\n",
    "                         normalize=env.normalize)\n",
    "            state = env_.reset()\n",
    "            for _ in range(10001):\n",
    "                state = np.reshape(state, [1, env_.lags,\n",
    "                                         env_.n_features])\n",
    "                action = np.argmax(self.model.predict(state)[0, 0])\n",
    "                next_state, reward, done, info = env_.step(action)\n",
    "                state = next_state\n",
    "                if done:\n",
    "                    treward = _ + 1\n",
    "                    trewards.append(treward)\n",
    "                    perf = env_.performance\n",
    "                    performances.append(perf)\n",
    "                    acc = env_.accuracy\n",
    "                    accuracies.append(acc)\n",
    "                    print('episode: {:4d}/{} | treward: {:4d} | acc: {:.3f} | perf: {:.3f}'\n",
    "                          .format(e, episodes, treward, acc, perf), end='\\r')\n",
    "                    break\n",
    "        return trewards, accuracies, performances, env_"
   ]
  },
  {
   "cell_type": "markdown",
   "metadata": {},
   "source": [
    "## Baseline Scenario"
   ]
  },
  {
   "cell_type": "markdown",
   "metadata": {},
   "source": [
    "### Environment"
   ]
  },
  {
   "cell_type": "code",
   "execution_count": null,
   "metadata": {},
   "outputs": [],
   "source": [
    "# baseline features\n",
    "features = [sym]"
   ]
  },
  {
   "cell_type": "code",
   "execution_count": null,
   "metadata": {},
   "outputs": [],
   "source": [
    "# no risk\n",
    "env = Simul(sym, features, window=0, lags=4, steps=365,\n",
    "            x0=1, kappa=1, theta=1.1, sigma=0.0,\n",
    "            leverage=1, min_accuracy=0.5, min_performance=0.85,\n",
    "            start=0, end=None, mu=None, std=None,\n",
    "            normalize=False)"
   ]
  },
  {
   "cell_type": "code",
   "execution_count": null,
   "metadata": {},
   "outputs": [],
   "source": [
    "env.reset()"
   ]
  },
  {
   "cell_type": "code",
   "execution_count": null,
   "metadata": {},
   "outputs": [],
   "source": [
    "math.exp(env.data['r'].sum())  # passive benchmark performance"
   ]
  },
  {
   "cell_type": "code",
   "execution_count": null,
   "metadata": {},
   "outputs": [],
   "source": [
    "env.data[sym].diff().apply(np.sign).value_counts()"
   ]
  },
  {
   "cell_type": "code",
   "execution_count": null,
   "metadata": {},
   "outputs": [],
   "source": [
    "ax = env.data['r'].cumsum().apply(np.exp).plot(figsize=(10, 6))\n",
    "env.data[sym].plot(ax=ax, style='r--', alpha=0.5);"
   ]
  },
  {
   "cell_type": "markdown",
   "metadata": {},
   "source": [
    "### Training the Agent"
   ]
  },
  {
   "cell_type": "code",
   "execution_count": null,
   "metadata": {},
   "outputs": [],
   "source": [
    "set_seeds(100)\n",
    "agent = FQLAgent(24, 0.001, env)"
   ]
  },
  {
   "cell_type": "code",
   "execution_count": null,
   "metadata": {},
   "outputs": [],
   "source": [
    "episodes = 60"
   ]
  },
  {
   "cell_type": "code",
   "execution_count": null,
   "metadata": {},
   "outputs": [],
   "source": [
    "%time agent.learn(episodes)"
   ]
  },
  {
   "cell_type": "code",
   "execution_count": null,
   "metadata": {},
   "outputs": [],
   "source": [
    "agent.epsilon"
   ]
  },
  {
   "cell_type": "code",
   "execution_count": null,
   "metadata": {},
   "outputs": [],
   "source": [
    "plt.figure(figsize=(10, 6))\n",
    "x = range(1, len(agent.averages) + 1)\n",
    "y = np.polyval(np.polyfit(x, agent.averages, deg=3), x)\n",
    "plt.plot(agent.averages, label='moving average')\n",
    "plt.plot(x, y, 'r--', label='regression')\n",
    "plt.xlabel('episodes')\n",
    "plt.ylabel('total reward')\n",
    "plt.legend();"
   ]
  },
  {
   "cell_type": "code",
   "execution_count": null,
   "metadata": {},
   "outputs": [],
   "source": [
    "plt.figure(figsize=(10, 6))\n",
    "x = range(1, len(agent.performances) + 1)\n",
    "y = np.polyval(np.polyfit(x, agent.performances, deg=3), x)\n",
    "plt.plot(agent.performances, label='moving average')\n",
    "plt.plot(x, y, 'r--', label='regression')\n",
    "plt.xlabel('episodes')\n",
    "plt.ylabel('performance')\n",
    "plt.legend();"
   ]
  },
  {
   "cell_type": "markdown",
   "metadata": {},
   "source": [
    "### Testing the Agent "
   ]
  },
  {
   "cell_type": "code",
   "execution_count": null,
   "metadata": {},
   "outputs": [],
   "source": [
    "rewards, accuracies, performances, env_ = agent.test(5)"
   ]
  },
  {
   "cell_type": "code",
   "execution_count": null,
   "metadata": {},
   "outputs": [],
   "source": [
    "rewards"
   ]
  },
  {
   "cell_type": "code",
   "execution_count": null,
   "metadata": {},
   "outputs": [],
   "source": [
    "accuracies"
   ]
  },
  {
   "cell_type": "code",
   "execution_count": null,
   "metadata": {},
   "outputs": [],
   "source": [
    "performances"
   ]
  },
  {
   "cell_type": "code",
   "execution_count": null,
   "metadata": {},
   "outputs": [],
   "source": [
    "ax = env.data[sym].plot(figsize=(10, 6))\n",
    "env_.data[sym].plot(ax=ax);"
   ]
  },
  {
   "cell_type": "markdown",
   "metadata": {},
   "source": [
    "## Trend Scenario"
   ]
  },
  {
   "cell_type": "markdown",
   "metadata": {},
   "source": [
    "### Environment"
   ]
  },
  {
   "cell_type": "code",
   "execution_count": null,
   "metadata": {},
   "outputs": [],
   "source": [
    "# trend features\n",
    "features = [sym]"
   ]
  },
  {
   "cell_type": "code",
   "execution_count": null,
   "metadata": {},
   "outputs": [],
   "source": [
    "# strong trend\n",
    "set_seeds(100)\n",
    "env = Simul(sym, features, window=20, lags=4, steps=365,\n",
    "            x0=100, kappa=1, theta=500, sigma=0.25,\n",
    "            leverage=1, min_accuracy=0.525, min_performance=0.5,\n",
    "            start=0, end=None, mu=None, std=None,\n",
    "            normalize=True)"
   ]
  },
  {
   "cell_type": "code",
   "execution_count": null,
   "metadata": {},
   "outputs": [],
   "source": [
    "env.reset()"
   ]
  },
  {
   "cell_type": "code",
   "execution_count": null,
   "metadata": {},
   "outputs": [],
   "source": [
    "env.data[sym].diff().apply(np.sign).value_counts()"
   ]
  },
  {
   "cell_type": "code",
   "execution_count": null,
   "metadata": {},
   "outputs": [],
   "source": [
    "math.exp(env.data['r'].sum())  # passive benchmark performance"
   ]
  },
  {
   "cell_type": "code",
   "execution_count": null,
   "metadata": {},
   "outputs": [],
   "source": [
    "math.exp(np.abs(env.data['r']).sum())  # maximum benchmark performance (= 100% correct predictions)"
   ]
  },
  {
   "cell_type": "code",
   "execution_count": null,
   "metadata": {},
   "outputs": [],
   "source": [
    "ax = env.data['r'].cumsum().apply(np.exp).plot(figsize=(10, 6))\n",
    "env.data[sym].plot(ax=ax, style='r--', alpha=0.5, secondary_y=sym);"
   ]
  },
  {
   "cell_type": "markdown",
   "metadata": {},
   "source": [
    "### Training the Agent"
   ]
  },
  {
   "cell_type": "code",
   "execution_count": null,
   "metadata": {},
   "outputs": [],
   "source": [
    "set_seeds(100)\n",
    "agent = FQLAgent(24, 0.001, env)"
   ]
  },
  {
   "cell_type": "code",
   "execution_count": null,
   "metadata": {},
   "outputs": [],
   "source": [
    "episodes = 100"
   ]
  },
  {
   "cell_type": "code",
   "execution_count": null,
   "metadata": {},
   "outputs": [],
   "source": [
    "%time agent.learn(episodes)"
   ]
  },
  {
   "cell_type": "code",
   "execution_count": null,
   "metadata": {},
   "outputs": [],
   "source": [
    "agent.epsilon"
   ]
  },
  {
   "cell_type": "code",
   "execution_count": null,
   "metadata": {},
   "outputs": [],
   "source": [
    "plt.figure(figsize=(10, 6))\n",
    "x = range(1, len(agent.averages) + 1)\n",
    "y = np.polyval(np.polyfit(x, agent.averages, deg=3), x)\n",
    "plt.plot(agent.averages, label='moving average')\n",
    "plt.plot(x, y, 'r--', label='regression')\n",
    "plt.xlabel('episodes')\n",
    "plt.ylabel('total reward')\n",
    "plt.legend();"
   ]
  },
  {
   "cell_type": "code",
   "execution_count": null,
   "metadata": {},
   "outputs": [],
   "source": [
    "plt.figure(figsize=(10, 6))\n",
    "x = range(1, len(agent.performances) + 1)\n",
    "y = np.polyval(np.polyfit(x, agent.performances, deg=3), x)\n",
    "plt.plot(agent.performances, label='moving average')\n",
    "plt.plot(x, y, 'r--', label='regression')\n",
    "plt.xlabel('episodes')\n",
    "plt.ylabel('performance')\n",
    "plt.legend();"
   ]
  },
  {
   "cell_type": "markdown",
   "metadata": {},
   "source": [
    "### Testing the Agent "
   ]
  },
  {
   "cell_type": "code",
   "execution_count": null,
   "metadata": {},
   "outputs": [],
   "source": [
    "rewards, accuracies, performances, env_ = agent.test(5)"
   ]
  },
  {
   "cell_type": "code",
   "execution_count": null,
   "metadata": {},
   "outputs": [],
   "source": [
    "rewards"
   ]
  },
  {
   "cell_type": "code",
   "execution_count": null,
   "metadata": {},
   "outputs": [],
   "source": [
    "accuracies"
   ]
  },
  {
   "cell_type": "code",
   "execution_count": null,
   "metadata": {},
   "outputs": [],
   "source": [
    "performances"
   ]
  },
  {
   "cell_type": "code",
   "execution_count": null,
   "metadata": {},
   "outputs": [],
   "source": [
    "ax = env.data[sym].plot(figsize=(10, 6))\n",
    "env_.data[sym].plot(ax=ax);"
   ]
  },
  {
   "cell_type": "code",
   "execution_count": null,
   "metadata": {},
   "outputs": [],
   "source": [
    "np.corrcoef(env.data[sym], env_.data[sym])"
   ]
  },
  {
   "cell_type": "markdown",
   "metadata": {},
   "source": [
    "## Mean Reversion Scenario"
   ]
  },
  {
   "cell_type": "markdown",
   "metadata": {},
   "source": [
    "### Environment"
   ]
  },
  {
   "cell_type": "code",
   "execution_count": null,
   "metadata": {},
   "outputs": [],
   "source": [
    "# reversion features\n",
    "features = ['r', 'dif']"
   ]
  },
  {
   "cell_type": "code",
   "execution_count": null,
   "metadata": {},
   "outputs": [],
   "source": [
    "# mean reversion\n",
    "set_seeds(1000)\n",
    "env = Simul(sym, features, window=20, lags=4, steps=365,\n",
    "            x0=100, kappa=7.5, theta=100, sigma=0.1,\n",
    "            leverage=1, min_accuracy=0.475, min_performance=0.85,\n",
    "            start=0, end=None, mu=None, std=None,\n",
    "            normalize=True, renew=False)"
   ]
  },
  {
   "cell_type": "code",
   "execution_count": null,
   "metadata": {},
   "outputs": [],
   "source": [
    "env.data.columns"
   ]
  },
  {
   "cell_type": "code",
   "execution_count": null,
   "metadata": {},
   "outputs": [],
   "source": [
    "env.reset()"
   ]
  },
  {
   "cell_type": "code",
   "execution_count": null,
   "metadata": {},
   "outputs": [],
   "source": [
    "env.data[sym].diff().apply(np.sign).value_counts()"
   ]
  },
  {
   "cell_type": "code",
   "execution_count": null,
   "metadata": {},
   "outputs": [],
   "source": [
    "math.exp(env.data['r'].sum())  # passive benchmark performance"
   ]
  },
  {
   "cell_type": "code",
   "execution_count": null,
   "metadata": {},
   "outputs": [],
   "source": [
    "ax = env.data['r'].cumsum().apply(np.exp).plot(figsize=(10, 6))\n",
    "env.data[sym].plot(ax=ax, style='r--', alpha=0.5, secondary_y=sym);"
   ]
  },
  {
   "cell_type": "markdown",
   "metadata": {},
   "source": [
    "### Training the Agent"
   ]
  },
  {
   "cell_type": "code",
   "execution_count": null,
   "metadata": {},
   "outputs": [],
   "source": [
    "set_seeds(100)\n",
    "agent = FQLAgent(24, 0.001, env)"
   ]
  },
  {
   "cell_type": "code",
   "execution_count": null,
   "metadata": {},
   "outputs": [],
   "source": [
    "episodes = 250"
   ]
  },
  {
   "cell_type": "code",
   "execution_count": null,
   "metadata": {},
   "outputs": [],
   "source": [
    "%time agent.learn(episodes)"
   ]
  },
  {
   "cell_type": "code",
   "execution_count": null,
   "metadata": {},
   "outputs": [],
   "source": [
    "agent.epsilon"
   ]
  },
  {
   "cell_type": "code",
   "execution_count": null,
   "metadata": {},
   "outputs": [],
   "source": [
    "plt.figure(figsize=(10, 6))\n",
    "x = range(1, len(agent.averages) + 1)\n",
    "y = np.polyval(np.polyfit(x, agent.averages, deg=3), x)\n",
    "plt.plot(agent.averages, label='moving average')\n",
    "plt.plot(x, y, 'r--', label='regression')\n",
    "plt.xlabel('episodes')\n",
    "plt.ylabel('total reward')\n",
    "plt.legend();"
   ]
  },
  {
   "cell_type": "code",
   "execution_count": null,
   "metadata": {},
   "outputs": [],
   "source": [
    "plt.figure(figsize=(10, 6))\n",
    "x = range(1, len(agent.performances) + 1)\n",
    "y = np.polyval(np.polyfit(x, agent.performances, deg=3), x)\n",
    "plt.plot(agent.performances, label='moving average')\n",
    "plt.plot(x, y, 'r--', label='regression')\n",
    "plt.xlabel('episodes')\n",
    "plt.ylabel('performance')\n",
    "plt.legend();"
   ]
  },
  {
   "cell_type": "markdown",
   "metadata": {
    "tags": []
   },
   "source": [
    "### Testing the Agent "
   ]
  },
  {
   "cell_type": "code",
   "execution_count": null,
   "metadata": {},
   "outputs": [],
   "source": [
    "rewards, accuracies, performances, env_ = agent.test(5)"
   ]
  },
  {
   "cell_type": "code",
   "execution_count": null,
   "metadata": {},
   "outputs": [],
   "source": [
    "rewards"
   ]
  },
  {
   "cell_type": "code",
   "execution_count": null,
   "metadata": {},
   "outputs": [],
   "source": [
    "accuracies"
   ]
  },
  {
   "cell_type": "code",
   "execution_count": null,
   "metadata": {},
   "outputs": [],
   "source": [
    "performances"
   ]
  },
  {
   "cell_type": "code",
   "execution_count": null,
   "metadata": {},
   "outputs": [],
   "source": [
    "ax = env.data[sym].plot(figsize=(10, 6))\n",
    "env_.data[sym].plot(ax=ax);"
   ]
  },
  {
   "cell_type": "code",
   "execution_count": null,
   "metadata": {},
   "outputs": [],
   "source": [
    "np.corrcoef(env.data[sym], env_.data[sym])"
   ]
  },
  {
   "cell_type": "markdown",
   "metadata": {},
   "source": [
    "<img src=\"https://certificate.tpq.io/quantsdev_banner_color.png\" alt=\"quants@dev\" width=\"35%\" align=\"right\" border=\"0\"><br>\n",
    "\n",
    "[quants@dev Discord Server](https://discord.gg/uJPtp9Awaj) | [@quants_dev](https://twitter.com/quants_dev) | <a href=\"mailto:qd@tpq.io\">qd@tpq.io</a>"
   ]
  }
 ],
 "metadata": {
  "kernelspec": {
   "display_name": "Python 3 (ipykernel)",
   "language": "python",
   "name": "python3"
  },
  "language_info": {
   "codemirror_mode": {
    "name": "ipython",
    "version": 3
   },
   "file_extension": ".py",
   "mimetype": "text/x-python",
   "name": "python",
   "nbconvert_exporter": "python",
   "pygments_lexer": "ipython3",
   "version": "3.9.7"
  }
 },
 "nbformat": 4,
 "nbformat_minor": 4
}
